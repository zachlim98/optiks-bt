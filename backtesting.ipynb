{
 "metadata": {
  "language_info": {
   "codemirror_mode": {
    "name": "ipython",
    "version": 3
   },
   "file_extension": ".py",
   "mimetype": "text/x-python",
   "name": "python",
   "nbconvert_exporter": "python",
   "pygments_lexer": "ipython3",
   "version": "3.8.5"
  },
  "orig_nbformat": 2,
  "kernelspec": {
   "name": "python3",
   "display_name": "Python 3.8.5 64-bit ('base': conda)"
  },
  "interpreter": {
   "hash": "048f1fa9a33d9a89442c8aba85d23c95ec4be7278da4853ec993d63bd37cc981"
  }
 },
 "nbformat": 4,
 "nbformat_minor": 2,
 "cells": [
  {
   "cell_type": "code",
   "execution_count": 1,
   "metadata": {},
   "outputs": [],
   "source": [
    "import pandas as pd\n",
    "import glob\n",
    "import os"
   ]
  },
  {
   "source": [
    "## Import and consolidate csv for SPY"
   ],
   "cell_type": "markdown",
   "metadata": {}
  },
  {
   "cell_type": "code",
   "execution_count": 87,
   "metadata": {
    "tags": [
     "outputPrepend"
    ]
   },
   "outputs": [
    {
     "output_type": "display_data",
     "data": {
      "text/plain": "HBox(children=(HTML(value=''), FloatProgress(value=1.0, bar_style='info', layout=Layout(width='20px'), max=1.0…",
      "application/vnd.jupyter.widget-view+json": {
       "version_major": 2,
       "version_minor": 0,
       "model_id": "04aa299f21864bd4ba20d7e778ccae2c"
      }
     },
     "metadata": {}
    },
    {
     "output_type": "stream",
     "name": "stdout",
     "text": [
      "cts\\SPY Data\\Data\\Consol\\cmd_csv\\D_20201104_OData1.csv\n",
      "Finished X:\\Projects\\SPY Data\\Data\\Consol\\cmd_csv\\D_20201104_OData2.csv\n",
      "Finished X:\\Projects\\SPY Data\\Data\\Consol\\cmd_csv\\D_20201105_OData1.csv\n",
      "Finished X:\\Projects\\SPY Data\\Data\\Consol\\cmd_csv\\D_20201105_OData2.csv\n",
      "Finished X:\\Projects\\SPY Data\\Data\\Consol\\cmd_csv\\D_20201106_OData1.csv\n",
      "Finished X:\\Projects\\SPY Data\\Data\\Consol\\cmd_csv\\D_20201106_OData2.csv\n",
      "Finished X:\\Projects\\SPY Data\\Data\\Consol\\cmd_csv\\D_20201109_OData1.csv\n",
      "Finished X:\\Projects\\SPY Data\\Data\\Consol\\cmd_csv\\D_20201109_OData2.csv\n",
      "Finished X:\\Projects\\SPY Data\\Data\\Consol\\cmd_csv\\D_20201110_OData1.csv\n",
      "Finished X:\\Projects\\SPY Data\\Data\\Consol\\cmd_csv\\D_20201110_OData2.csv\n",
      "Finished X:\\Projects\\SPY Data\\Data\\Consol\\cmd_csv\\D_20201111_OData1.csv\n",
      "Finished X:\\Projects\\SPY Data\\Data\\Consol\\cmd_csv\\D_20201111_OData2.csv\n",
      "Finished X:\\Projects\\SPY Data\\Data\\Consol\\cmd_csv\\D_20201112_OData1.csv\n",
      "Finished X:\\Projects\\SPY Data\\Data\\Consol\\cmd_csv\\D_20201112_OData2.csv\n",
      "Finished X:\\Projects\\SPY Data\\Data\\Consol\\cmd_csv\\D_20201113_OData1.csv\n",
      "Finished X:\\Projects\\SPY Data\\Data\\Consol\\cmd_csv\\D_20201113_OData2.csv\n",
      "Finished X:\\Projects\\SPY Data\\Data\\Consol\\cmd_csv\\D_20201116_OData1.csv\n",
      "Finished X:\\Projects\\SPY Data\\Data\\Consol\\cmd_csv\\D_20201116_OData2.csv\n",
      "Finished X:\\Projects\\SPY Data\\Data\\Consol\\cmd_csv\\D_20201117_OData1.csv\n",
      "Finished X:\\Projects\\SPY Data\\Data\\Consol\\cmd_csv\\D_20201117_OData2.csv\n",
      "Finished X:\\Projects\\SPY Data\\Data\\Consol\\cmd_csv\\D_20201118_OData1.csv\n",
      "Finished X:\\Projects\\SPY Data\\Data\\Consol\\cmd_csv\\D_20201118_OData2.csv\n",
      "Finished X:\\Projects\\SPY Data\\Data\\Consol\\cmd_csv\\D_20201119_OData1.csv\n",
      "Finished X:\\Projects\\SPY Data\\Data\\Consol\\cmd_csv\\D_20201119_OData2.csv\n",
      "Finished X:\\Projects\\SPY Data\\Data\\Consol\\cmd_csv\\D_20201120_OData1.csv\n",
      "Finished X:\\Projects\\SPY Data\\Data\\Consol\\cmd_csv\\D_20201120_OData2.csv\n",
      "Finished X:\\Projects\\SPY Data\\Data\\Consol\\cmd_csv\\D_20201123_OData1.csv\n",
      "Finished X:\\Projects\\SPY Data\\Data\\Consol\\cmd_csv\\D_20201123_OData2.csv\n",
      "Finished X:\\Projects\\SPY Data\\Data\\Consol\\cmd_csv\\D_20201124_OData1.csv\n",
      "Finished X:\\Projects\\SPY Data\\Data\\Consol\\cmd_csv\\D_20201124_OData2.csv\n",
      "Finished X:\\Projects\\SPY Data\\Data\\Consol\\cmd_csv\\D_20201125_OData1.csv\n",
      "Finished X:\\Projects\\SPY Data\\Data\\Consol\\cmd_csv\\D_20201125_OData2.csv\n",
      "Finished X:\\Projects\\SPY Data\\Data\\Consol\\cmd_csv\\D_20201127_OData1.csv\n",
      "Finished X:\\Projects\\SPY Data\\Data\\Consol\\cmd_csv\\D_20201127_OData2.csv\n",
      "Finished X:\\Projects\\SPY Data\\Data\\Consol\\cmd_csv\\D_20201130_OData1.csv\n",
      "Finished X:\\Projects\\SPY Data\\Data\\Consol\\cmd_csv\\D_20201130_OData2.csv\n",
      "Finished X:\\Projects\\SPY Data\\Data\\Consol\\cmd_csv\\D_20201201_OData1.csv\n",
      "Finished X:\\Projects\\SPY Data\\Data\\Consol\\cmd_csv\\D_20201201_OData2.csv\n",
      "Finished X:\\Projects\\SPY Data\\Data\\Consol\\cmd_csv\\D_20201202_OData1.csv\n",
      "Finished X:\\Projects\\SPY Data\\Data\\Consol\\cmd_csv\\D_20201202_OData2.csv\n",
      "Finished X:\\Projects\\SPY Data\\Data\\Consol\\cmd_csv\\D_20201203_OData1.csv\n",
      "Finished X:\\Projects\\SPY Data\\Data\\Consol\\cmd_csv\\D_20201203_OData2.csv\n",
      "Finished X:\\Projects\\SPY Data\\Data\\Consol\\cmd_csv\\D_20201204_OData1.csv\n",
      "Finished X:\\Projects\\SPY Data\\Data\\Consol\\cmd_csv\\D_20201204_OData2.csv\n",
      "Finished X:\\Projects\\SPY Data\\Data\\Consol\\cmd_csv\\D_20201207_OData1.csv\n",
      "Finished X:\\Projects\\SPY Data\\Data\\Consol\\cmd_csv\\D_20201207_OData2.csv\n",
      "Finished X:\\Projects\\SPY Data\\Data\\Consol\\cmd_csv\\D_20201208_OData1.csv\n",
      "Finished X:\\Projects\\SPY Data\\Data\\Consol\\cmd_csv\\D_20201208_OData2.csv\n",
      "Finished X:\\Projects\\SPY Data\\Data\\Consol\\cmd_csv\\D_20201209_OData1.csv\n",
      "Finished X:\\Projects\\SPY Data\\Data\\Consol\\cmd_csv\\D_20201209_OData2.csv\n",
      "Finished X:\\Projects\\SPY Data\\Data\\Consol\\cmd_csv\\D_20201210_OData1.csv\n",
      "Finished X:\\Projects\\SPY Data\\Data\\Consol\\cmd_csv\\D_20201210_OData2.csv\n",
      "Finished X:\\Projects\\SPY Data\\Data\\Consol\\cmd_csv\\D_20201211_OData1.csv\n",
      "Finished X:\\Projects\\SPY Data\\Data\\Consol\\cmd_csv\\D_20201211_OData2.csv\n",
      "Finished X:\\Projects\\SPY Data\\Data\\Consol\\cmd_csv\\D_20201214_OData1.csv\n",
      "Finished X:\\Projects\\SPY Data\\Data\\Consol\\cmd_csv\\D_20201214_OData2.csv\n",
      "Finished X:\\Projects\\SPY Data\\Data\\Consol\\cmd_csv\\D_20201215_OData1.csv\n",
      "Finished X:\\Projects\\SPY Data\\Data\\Consol\\cmd_csv\\D_20201215_OData2.csv\n",
      "Finished X:\\Projects\\SPY Data\\Data\\Consol\\cmd_csv\\D_20201216_OData1.csv\n",
      "Finished X:\\Projects\\SPY Data\\Data\\Consol\\cmd_csv\\D_20201216_OData2.csv\n",
      "Finished X:\\Projects\\SPY Data\\Data\\Consol\\cmd_csv\\D_20201217_OData1.csv\n",
      "Finished X:\\Projects\\SPY Data\\Data\\Consol\\cmd_csv\\D_20201217_OData2.csv\n",
      "Finished X:\\Projects\\SPY Data\\Data\\Consol\\cmd_csv\\D_20201218_OData1.csv\n",
      "Finished X:\\Projects\\SPY Data\\Data\\Consol\\cmd_csv\\D_20201218_OData2.csv\n",
      "Finished X:\\Projects\\SPY Data\\Data\\Consol\\cmd_csv\\D_20201221_OData1.csv\n",
      "Finished X:\\Projects\\SPY Data\\Data\\Consol\\cmd_csv\\D_20201221_OData2.csv\n",
      "Finished X:\\Projects\\SPY Data\\Data\\Consol\\cmd_csv\\D_20201222_OData1.csv\n",
      "Finished X:\\Projects\\SPY Data\\Data\\Consol\\cmd_csv\\D_20201222_OData2.csv\n",
      "Finished X:\\Projects\\SPY Data\\Data\\Consol\\cmd_csv\\D_20201223_OData1.csv\n",
      "Finished X:\\Projects\\SPY Data\\Data\\Consol\\cmd_csv\\D_20201223_OData2.csv\n",
      "Finished X:\\Projects\\SPY Data\\Data\\Consol\\cmd_csv\\D_20201224_OData1.csv\n",
      "Finished X:\\Projects\\SPY Data\\Data\\Consol\\cmd_csv\\D_20201224_OData2.csv\n",
      "Finished X:\\Projects\\SPY Data\\Data\\Consol\\cmd_csv\\D_20201225_OData1.csv\n",
      "Finished X:\\Projects\\SPY Data\\Data\\Consol\\cmd_csv\\D_20201225_OData2.csv\n",
      "Finished X:\\Projects\\SPY Data\\Data\\Consol\\cmd_csv\\D_20201228_OData1.csv\n",
      "Finished X:\\Projects\\SPY Data\\Data\\Consol\\cmd_csv\\D_20201228_OData2.csv\n",
      "Finished X:\\Projects\\SPY Data\\Data\\Consol\\cmd_csv\\D_20201229_OData1.csv\n",
      "Finished X:\\Projects\\SPY Data\\Data\\Consol\\cmd_csv\\D_20201229_OData2.csv\n",
      "Finished X:\\Projects\\SPY Data\\Data\\Consol\\cmd_csv\\D_20201230_OData1.csv\n",
      "Finished X:\\Projects\\SPY Data\\Data\\Consol\\cmd_csv\\D_20201230_OData2.csv\n",
      "Finished X:\\Projects\\SPY Data\\Data\\Consol\\cmd_csv\\D_20201231_OData1.csv\n",
      "Finished X:\\Projects\\SPY Data\\Data\\Consol\\cmd_csv\\D_20201231_OData2.csv\n",
      "Finished X:\\Projects\\SPY Data\\Data\\Consol\\cmd_csv\\D_20210101_OData1.csv\n",
      "Finished X:\\Projects\\SPY Data\\Data\\Consol\\cmd_csv\\D_20210101_OData2.csv\n",
      "Finished X:\\Projects\\SPY Data\\Data\\Consol\\cmd_csv\\D_20210104_OData1.csv\n",
      "Finished X:\\Projects\\SPY Data\\Data\\Consol\\cmd_csv\\D_20210104_OData2.csv\n",
      "Finished X:\\Projects\\SPY Data\\Data\\Consol\\cmd_csv\\D_20210105_OData1.csv\n",
      "Finished X:\\Projects\\SPY Data\\Data\\Consol\\cmd_csv\\D_20210105_OData2.csv\n",
      "Finished X:\\Projects\\SPY Data\\Data\\Consol\\cmd_csv\\D_20210106_OData1.csv\n",
      "Finished X:\\Projects\\SPY Data\\Data\\Consol\\cmd_csv\\D_20210106_OData2.csv\n",
      "Finished X:\\Projects\\SPY Data\\Data\\Consol\\cmd_csv\\D_20210107_OData1.csv\n",
      "Finished X:\\Projects\\SPY Data\\Data\\Consol\\cmd_csv\\D_20210107_OData2.csv\n",
      "Finished X:\\Projects\\SPY Data\\Data\\Consol\\cmd_csv\\D_20210108_OData1.csv\n",
      "Finished X:\\Projects\\SPY Data\\Data\\Consol\\cmd_csv\\D_20210108_OData2.csv\n",
      "Finished X:\\Projects\\SPY Data\\Data\\Consol\\cmd_csv\\D_20210111_OData1.csv\n",
      "Finished X:\\Projects\\SPY Data\\Data\\Consol\\cmd_csv\\D_20210111_OData2.csv\n",
      "Finished X:\\Projects\\SPY Data\\Data\\Consol\\cmd_csv\\D_20210112_OData1.csv\n",
      "Finished X:\\Projects\\SPY Data\\Data\\Consol\\cmd_csv\\D_20210112_OData2.csv\n",
      "Finished X:\\Projects\\SPY Data\\Data\\Consol\\cmd_csv\\D_20210113_OData1.csv\n",
      "Finished X:\\Projects\\SPY Data\\Data\\Consol\\cmd_csv\\D_20210113_OData2.csv\n",
      "Finished X:\\Projects\\SPY Data\\Data\\Consol\\cmd_csv\\D_20210114_OData1.csv\n",
      "Finished X:\\Projects\\SPY Data\\Data\\Consol\\cmd_csv\\D_20210114_OData2.csv\n",
      "Finished X:\\Projects\\SPY Data\\Data\\Consol\\cmd_csv\\D_20210115_OData1.csv\n",
      "Finished X:\\Projects\\SPY Data\\Data\\Consol\\cmd_csv\\D_20210115_OData2.csv\n",
      "Finished X:\\Projects\\SPY Data\\Data\\Consol\\cmd_csv\\D_20210118_OData1.csv\n",
      "Finished X:\\Projects\\SPY Data\\Data\\Consol\\cmd_csv\\D_20210118_OData2.csv\n",
      "Finished X:\\Projects\\SPY Data\\Data\\Consol\\cmd_csv\\D_20210119_OData1.csv\n",
      "Finished X:\\Projects\\SPY Data\\Data\\Consol\\cmd_csv\\D_20210119_OData2.csv\n",
      "Finished X:\\Projects\\SPY Data\\Data\\Consol\\cmd_csv\\D_20210120_OData1.csv\n",
      "Finished X:\\Projects\\SPY Data\\Data\\Consol\\cmd_csv\\D_20210120_OData2.csv\n",
      "Finished X:\\Projects\\SPY Data\\Data\\Consol\\cmd_csv\\D_20210121_OData1.csv\n",
      "Finished X:\\Projects\\SPY Data\\Data\\Consol\\cmd_csv\\D_20210121_OData2.csv\n",
      "Finished X:\\Projects\\SPY Data\\Data\\Consol\\cmd_csv\\D_20210122_OData1.csv\n",
      "Finished X:\\Projects\\SPY Data\\Data\\Consol\\cmd_csv\\D_20210122_OData2.csv\n",
      "Finished X:\\Projects\\SPY Data\\Data\\Consol\\cmd_csv\\D_20210125_OData1.csv\n",
      "Finished X:\\Projects\\SPY Data\\Data\\Consol\\cmd_csv\\D_20210125_OData2.csv\n",
      "Finished X:\\Projects\\SPY Data\\Data\\Consol\\cmd_csv\\D_20210126_OData1.csv\n",
      "Finished X:\\Projects\\SPY Data\\Data\\Consol\\cmd_csv\\D_20210126_OData2.csv\n",
      "Finished X:\\Projects\\SPY Data\\Data\\Consol\\cmd_csv\\D_20210127_OData1.csv\n",
      "Finished X:\\Projects\\SPY Data\\Data\\Consol\\cmd_csv\\D_20210127_OData2.csv\n",
      "Finished X:\\Projects\\SPY Data\\Data\\Consol\\cmd_csv\\D_20210128_OData1.csv\n",
      "Finished X:\\Projects\\SPY Data\\Data\\Consol\\cmd_csv\\D_20210128_OData2.csv\n",
      "Finished X:\\Projects\\SPY Data\\Data\\Consol\\cmd_csv\\D_20210129_OData1.csv\n",
      "Finished X:\\Projects\\SPY Data\\Data\\Consol\\cmd_csv\\D_20210129_OData2.csv\n",
      "Finished X:\\Projects\\SPY Data\\Data\\Consol\\cmd_csv\\D_20210201_OData1.csv\n",
      "Finished X:\\Projects\\SPY Data\\Data\\Consol\\cmd_csv\\D_20210201_OData2.csv\n",
      "Finished X:\\Projects\\SPY Data\\Data\\Consol\\cmd_csv\\D_20210202_OData1.csv\n",
      "Finished X:\\Projects\\SPY Data\\Data\\Consol\\cmd_csv\\D_20210202_OData2.csv\n",
      "Finished X:\\Projects\\SPY Data\\Data\\Consol\\cmd_csv\\D_20210203_OData1.csv\n",
      "Finished X:\\Projects\\SPY Data\\Data\\Consol\\cmd_csv\\D_20210203_OData2.csv\n",
      "Finished X:\\Projects\\SPY Data\\Data\\Consol\\cmd_csv\\D_20210204_OData1.csv\n",
      "Finished X:\\Projects\\SPY Data\\Data\\Consol\\cmd_csv\\D_20210204_OData2.csv\n",
      "Finished X:\\Projects\\SPY Data\\Data\\Consol\\cmd_csv\\D_20210205_OData1.csv\n",
      "Finished X:\\Projects\\SPY Data\\Data\\Consol\\cmd_csv\\D_20210205_OData2.csv\n",
      "Finished X:\\Projects\\SPY Data\\Data\\Consol\\cmd_csv\\D_20210208_OData1.csv\n",
      "Finished X:\\Projects\\SPY Data\\Data\\Consol\\cmd_csv\\D_20210208_OData2.csv\n",
      "Finished X:\\Projects\\SPY Data\\Data\\Consol\\cmd_csv\\D_20210209_OData1.csv\n",
      "Finished X:\\Projects\\SPY Data\\Data\\Consol\\cmd_csv\\D_20210209_OData2.csv\n",
      "Finished X:\\Projects\\SPY Data\\Data\\Consol\\cmd_csv\\D_20210210_OData1.csv\n",
      "Finished X:\\Projects\\SPY Data\\Data\\Consol\\cmd_csv\\D_20210210_OData2.csv\n",
      "Finished X:\\Projects\\SPY Data\\Data\\Consol\\cmd_csv\\D_20210211_OData1.csv\n",
      "Finished X:\\Projects\\SPY Data\\Data\\Consol\\cmd_csv\\D_20210211_OData2.csv\n",
      "Finished X:\\Projects\\SPY Data\\Data\\Consol\\cmd_csv\\D_20210212_OData1.csv\n",
      "Finished X:\\Projects\\SPY Data\\Data\\Consol\\cmd_csv\\D_20210212_OData2.csv\n",
      "Finished X:\\Projects\\SPY Data\\Data\\Consol\\cmd_csv\\D_20210215_OData1.csv\n",
      "Finished X:\\Projects\\SPY Data\\Data\\Consol\\cmd_csv\\D_20210215_OData2.csv\n",
      "Finished X:\\Projects\\SPY Data\\Data\\Consol\\cmd_csv\\D_20210216_OData1.csv\n",
      "Finished X:\\Projects\\SPY Data\\Data\\Consol\\cmd_csv\\D_20210216_OData2.csv\n",
      "Finished X:\\Projects\\SPY Data\\Data\\Consol\\cmd_csv\\D_20210217_OData1.csv\n",
      "Finished X:\\Projects\\SPY Data\\Data\\Consol\\cmd_csv\\D_20210217_OData2.csv\n",
      "Finished X:\\Projects\\SPY Data\\Data\\Consol\\cmd_csv\\D_20210218_OData1.csv\n",
      "Finished X:\\Projects\\SPY Data\\Data\\Consol\\cmd_csv\\D_20210218_OData2.csv\n",
      "Finished X:\\Projects\\SPY Data\\Data\\Consol\\cmd_csv\\D_20210219_OData1.csv\n",
      "Finished X:\\Projects\\SPY Data\\Data\\Consol\\cmd_csv\\D_20210219_OData2.csv\n",
      "Finished X:\\Projects\\SPY Data\\Data\\Consol\\cmd_csv\\D_20210222_OData1.csv\n",
      "Finished X:\\Projects\\SPY Data\\Data\\Consol\\cmd_csv\\D_20210222_OData2.csv\n",
      "Finished X:\\Projects\\SPY Data\\Data\\Consol\\cmd_csv\\D_20210223_OData1.csv\n",
      "Finished X:\\Projects\\SPY Data\\Data\\Consol\\cmd_csv\\D_20210223_OData2.csv\n",
      "Finished X:\\Projects\\SPY Data\\Data\\Consol\\cmd_csv\\D_20210224_OData1.csv\n",
      "Finished X:\\Projects\\SPY Data\\Data\\Consol\\cmd_csv\\D_20210224_OData2.csv\n",
      "Finished X:\\Projects\\SPY Data\\Data\\Consol\\cmd_csv\\D_20210225_OData1.csv\n",
      "Finished X:\\Projects\\SPY Data\\Data\\Consol\\cmd_csv\\D_20210225_OData2.csv\n",
      "Finished X:\\Projects\\SPY Data\\Data\\Consol\\cmd_csv\\D_20210226_OData1.csv\n",
      "Finished X:\\Projects\\SPY Data\\Data\\Consol\\cmd_csv\\D_20210226_OData2.csv\n",
      "Finished X:\\Projects\\SPY Data\\Data\\Consol\\cmd_csv\\D_20210301_OData1.csv\n",
      "Finished X:\\Projects\\SPY Data\\Data\\Consol\\cmd_csv\\D_20210301_OData2.csv\n",
      "Finished X:\\Projects\\SPY Data\\Data\\Consol\\cmd_csv\\D_20210302_OData1.csv\n",
      "Finished X:\\Projects\\SPY Data\\Data\\Consol\\cmd_csv\\D_20210302_OData2.csv\n",
      "Finished X:\\Projects\\SPY Data\\Data\\Consol\\cmd_csv\\D_20210303_OData1.csv\n",
      "Finished X:\\Projects\\SPY Data\\Data\\Consol\\cmd_csv\\D_20210303_OData2.csv\n",
      "Finished X:\\Projects\\SPY Data\\Data\\Consol\\cmd_csv\\D_20210304_OData1.csv\n",
      "Finished X:\\Projects\\SPY Data\\Data\\Consol\\cmd_csv\\D_20210304_OData2.csv\n",
      "Finished X:\\Projects\\SPY Data\\Data\\Consol\\cmd_csv\\D_20210305_OData1.csv\n",
      "Finished X:\\Projects\\SPY Data\\Data\\Consol\\cmd_csv\\D_20210305_OData2.csv\n",
      "Finished X:\\Projects\\SPY Data\\Data\\Consol\\cmd_csv\\D_20210308_OData1.csv\n",
      "Finished X:\\Projects\\SPY Data\\Data\\Consol\\cmd_csv\\D_20210308_OData2.csv\n",
      "Finished X:\\Projects\\SPY Data\\Data\\Consol\\cmd_csv\\D_20210309_OData1.csv\n",
      "Finished X:\\Projects\\SPY Data\\Data\\Consol\\cmd_csv\\D_20210309_OData2.csv\n",
      "Finished X:\\Projects\\SPY Data\\Data\\Consol\\cmd_csv\\D_20210310_OData1.csv\n",
      "Finished X:\\Projects\\SPY Data\\Data\\Consol\\cmd_csv\\D_20210310_OData2.csv\n",
      "Finished X:\\Projects\\SPY Data\\Data\\Consol\\cmd_csv\\D_20210311_OData1.csv\n",
      "Finished X:\\Projects\\SPY Data\\Data\\Consol\\cmd_csv\\D_20210311_OData2.csv\n",
      "Finished X:\\Projects\\SPY Data\\Data\\Consol\\cmd_csv\\D_20210312_OData1.csv\n",
      "Finished X:\\Projects\\SPY Data\\Data\\Consol\\cmd_csv\\D_20210312_OData2.csv\n",
      "Finished X:\\Projects\\SPY Data\\Data\\Consol\\cmd_csv\\D_20210315_OData1.csv\n",
      "Finished X:\\Projects\\SPY Data\\Data\\Consol\\cmd_csv\\D_20210315_OData2.csv\n",
      "Finished X:\\Projects\\SPY Data\\Data\\Consol\\cmd_csv\\D_20210316_OData1.csv\n",
      "Finished X:\\Projects\\SPY Data\\Data\\Consol\\cmd_csv\\D_20210316_OData2.csv\n",
      "Finished X:\\Projects\\SPY Data\\Data\\Consol\\cmd_csv\\D_20210317_OData1.csv\n",
      "Finished X:\\Projects\\SPY Data\\Data\\Consol\\cmd_csv\\D_20210317_OData2.csv\n",
      "Finished X:\\Projects\\SPY Data\\Data\\Consol\\cmd_csv\\D_20210318_OData1.csv\n",
      "Finished X:\\Projects\\SPY Data\\Data\\Consol\\cmd_csv\\D_20210318_OData2.csv\n",
      "Finished X:\\Projects\\SPY Data\\Data\\Consol\\cmd_csv\\D_20210319_OData1.csv\n",
      "Finished X:\\Projects\\SPY Data\\Data\\Consol\\cmd_csv\\D_20210319_OData2.csv\n",
      "Finished X:\\Projects\\SPY Data\\Data\\Consol\\cmd_csv\\D_20210322_OData1.csv\n",
      "Finished X:\\Projects\\SPY Data\\Data\\Consol\\cmd_csv\\D_20210322_OData2.csv\n",
      "Finished X:\\Projects\\SPY Data\\Data\\Consol\\cmd_csv\\D_20210323_OData1.csv\n",
      "Finished X:\\Projects\\SPY Data\\Data\\Consol\\cmd_csv\\D_20210323_OData2.csv\n",
      "Finished X:\\Projects\\SPY Data\\Data\\Consol\\cmd_csv\\D_20210324_OData1.csv\n",
      "Finished X:\\Projects\\SPY Data\\Data\\Consol\\cmd_csv\\D_20210324_OData2.csv\n",
      "Finished X:\\Projects\\SPY Data\\Data\\Consol\\cmd_csv\\D_20210325_OData1.csv\n",
      "Finished X:\\Projects\\SPY Data\\Data\\Consol\\cmd_csv\\D_20210325_OData2.csv\n",
      "Finished X:\\Projects\\SPY Data\\Data\\Consol\\cmd_csv\\D_20210326_OData1.csv\n",
      "Finished X:\\Projects\\SPY Data\\Data\\Consol\\cmd_csv\\D_20210326_OData2.csv\n",
      "Finished X:\\Projects\\SPY Data\\Data\\Consol\\cmd_csv\\D_20210329_OData1.csv\n",
      "Finished X:\\Projects\\SPY Data\\Data\\Consol\\cmd_csv\\D_20210329_OData2.csv\n",
      "Finished X:\\Projects\\SPY Data\\Data\\Consol\\cmd_csv\\D_20210330_OData1.csv\n",
      "Finished X:\\Projects\\SPY Data\\Data\\Consol\\cmd_csv\\D_20210330_OData2.csv\n",
      "Finished X:\\Projects\\SPY Data\\Data\\Consol\\cmd_csv\\D_20210331_OData1.csv\n",
      "Finished X:\\Projects\\SPY Data\\Data\\Consol\\cmd_csv\\D_20210331_OData2.csv\n",
      "Finished X:\\Projects\\SPY Data\\Data\\Consol\\cmd_csv\\D_20210401_OData1.csv\n",
      "Finished X:\\Projects\\SPY Data\\Data\\Consol\\cmd_csv\\D_20210401_OData2.csv\n",
      "Finished X:\\Projects\\SPY Data\\Data\\Consol\\cmd_csv\\D_20210402_OData1.csv\n",
      "Finished X:\\Projects\\SPY Data\\Data\\Consol\\cmd_csv\\D_20210402_OData2.csv\n",
      "Finished X:\\Projects\\SPY Data\\Data\\Consol\\cmd_csv\\D_20210405_OData1.csv\n",
      "Finished X:\\Projects\\SPY Data\\Data\\Consol\\cmd_csv\\D_20210405_OData2.csv\n",
      "Finished X:\\Projects\\SPY Data\\Data\\Consol\\cmd_csv\\D_20210406_OData1.csv\n",
      "Finished X:\\Projects\\SPY Data\\Data\\Consol\\cmd_csv\\D_20210406_OData2.csv\n",
      "Finished X:\\Projects\\SPY Data\\Data\\Consol\\cmd_csv\\D_20210407_OData1.csv\n",
      "Finished X:\\Projects\\SPY Data\\Data\\Consol\\cmd_csv\\D_20210407_OData2.csv\n",
      "Finished X:\\Projects\\SPY Data\\Data\\Consol\\cmd_csv\\D_20210408_OData1.csv\n",
      "Finished X:\\Projects\\SPY Data\\Data\\Consol\\cmd_csv\\D_20210408_OData2.csv\n",
      "Finished X:\\Projects\\SPY Data\\Data\\Consol\\cmd_csv\\D_20210409_OData1.csv\n",
      "Finished X:\\Projects\\SPY Data\\Data\\Consol\\cmd_csv\\D_20210409_OData2.csv\n",
      "Finished X:\\Projects\\SPY Data\\Data\\Consol\\cmd_csv\\D_20210412_OData1.csv\n",
      "Finished X:\\Projects\\SPY Data\\Data\\Consol\\cmd_csv\\D_20210412_OData2.csv\n",
      "Finished X:\\Projects\\SPY Data\\Data\\Consol\\cmd_csv\\D_20210413_OData1.csv\n",
      "Finished X:\\Projects\\SPY Data\\Data\\Consol\\cmd_csv\\D_20210413_OData2.csv\n",
      "Finished X:\\Projects\\SPY Data\\Data\\Consol\\cmd_csv\\D_20210414_OData1.csv\n",
      "Finished X:\\Projects\\SPY Data\\Data\\Consol\\cmd_csv\\D_20210414_OData2.csv\n",
      "Finished X:\\Projects\\SPY Data\\Data\\Consol\\cmd_csv\\D_20210415_OData1.csv\n",
      "Finished X:\\Projects\\SPY Data\\Data\\Consol\\cmd_csv\\D_20210415_OData2.csv\n",
      "Finished X:\\Projects\\SPY Data\\Data\\Consol\\cmd_csv\\D_20210416_OData1.csv\n",
      "Finished X:\\Projects\\SPY Data\\Data\\Consol\\cmd_csv\\D_20210416_OData2.csv\n",
      "Finished X:\\Projects\\SPY Data\\Data\\Consol\\cmd_csv\\D_20210419_OData1.csv\n",
      "Finished X:\\Projects\\SPY Data\\Data\\Consol\\cmd_csv\\D_20210419_OData2.csv\n",
      "Finished X:\\Projects\\SPY Data\\Data\\Consol\\cmd_csv\\D_20210420_OData1.csv\n",
      "Finished X:\\Projects\\SPY Data\\Data\\Consol\\cmd_csv\\D_20210420_OData2.csv\n",
      "Finished X:\\Projects\\SPY Data\\Data\\Consol\\cmd_csv\\D_20210421_OData1.csv\n",
      "Finished X:\\Projects\\SPY Data\\Data\\Consol\\cmd_csv\\D_20210421_OData2.csv\n",
      "Finished X:\\Projects\\SPY Data\\Data\\Consol\\cmd_csv\\D_20210422_OData1.csv\n",
      "Finished X:\\Projects\\SPY Data\\Data\\Consol\\cmd_csv\\D_20210422_OData2.csv\n",
      "Finished X:\\Projects\\SPY Data\\Data\\Consol\\cmd_csv\\D_20210423_OData1.csv\n",
      "Finished X:\\Projects\\SPY Data\\Data\\Consol\\cmd_csv\\D_20210423_OData2.csv\n",
      "Finished X:\\Projects\\SPY Data\\Data\\Consol\\cmd_csv\\D_20210426_OData1.csv\n",
      "Finished X:\\Projects\\SPY Data\\Data\\Consol\\cmd_csv\\D_20210426_OData2.csv\n",
      "Finished X:\\Projects\\SPY Data\\Data\\Consol\\cmd_csv\\D_20210427_OData1.csv\n",
      "Finished X:\\Projects\\SPY Data\\Data\\Consol\\cmd_csv\\D_20210427_OData2.csv\n",
      "Finished X:\\Projects\\SPY Data\\Data\\Consol\\cmd_csv\\D_20210428_OData1.csv\n",
      "Finished X:\\Projects\\SPY Data\\Data\\Consol\\cmd_csv\\D_20210428_OData2.csv\n",
      "Finished X:\\Projects\\SPY Data\\Data\\Consol\\cmd_csv\\D_20210429_OData1.csv\n",
      "Finished X:\\Projects\\SPY Data\\Data\\Consol\\cmd_csv\\D_20210429_OData2.csv\n",
      "Finished X:\\Projects\\SPY Data\\Data\\Consol\\cmd_csv\\D_20210430_OData1.csv\n",
      "Finished X:\\Projects\\SPY Data\\Data\\Consol\\cmd_csv\\D_20210430_OData2.csv\n",
      "Finished X:\\Projects\\SPY Data\\Data\\Consol\\cmd_csv\\D_20210503_OData1.csv\n",
      "Finished X:\\Projects\\SPY Data\\Data\\Consol\\cmd_csv\\D_20210503_OData2.csv\n",
      "Finished X:\\Projects\\SPY Data\\Data\\Consol\\cmd_csv\\D_20210504_OData1.csv\n",
      "Finished X:\\Projects\\SPY Data\\Data\\Consol\\cmd_csv\\D_20210504_OData2.csv\n",
      "Finished X:\\Projects\\SPY Data\\Data\\Consol\\cmd_csv\\D_20210505_OData1.csv\n",
      "Finished X:\\Projects\\SPY Data\\Data\\Consol\\cmd_csv\\D_20210505_OData2.csv\n",
      "Finished X:\\Projects\\SPY Data\\Data\\Consol\\cmd_csv\\D_20210506_OData1.csv\n",
      "Finished X:\\Projects\\SPY Data\\Data\\Consol\\cmd_csv\\D_20210506_OData2.csv\n",
      "Finished X:\\Projects\\SPY Data\\Data\\Consol\\cmd_csv\\D_20210507_OData1.csv\n",
      "Finished X:\\Projects\\SPY Data\\Data\\Consol\\cmd_csv\\D_20210507_OData2.csv\n",
      "Finished X:\\Projects\\SPY Data\\Data\\Consol\\cmd_csv\\D_20210510_OData1.csv\n",
      "Finished X:\\Projects\\SPY Data\\Data\\Consol\\cmd_csv\\D_20210510_OData2.csv\n",
      "Finished X:\\Projects\\SPY Data\\Data\\Consol\\cmd_csv\\D_20210511_OData1.csv\n",
      "Finished X:\\Projects\\SPY Data\\Data\\Consol\\cmd_csv\\D_20210511_OData2.csv\n",
      "Finished X:\\Projects\\SPY Data\\Data\\Consol\\cmd_csv\\D_20210512_OData1.csv\n",
      "Finished X:\\Projects\\SPY Data\\Data\\Consol\\cmd_csv\\D_20210512_OData2.csv\n",
      "Finished X:\\Projects\\SPY Data\\Data\\Consol\\cmd_csv\\D_20210513_OData1.csv\n",
      "Finished X:\\Projects\\SPY Data\\Data\\Consol\\cmd_csv\\D_20210513_OData2.csv\n",
      "Finished X:\\Projects\\SPY Data\\Data\\Consol\\cmd_csv\\D_20210514_OData1.csv\n",
      "Finished X:\\Projects\\SPY Data\\Data\\Consol\\cmd_csv\\D_20210514_OData2.csv\n",
      "Finished X:\\Projects\\SPY Data\\Data\\Consol\\cmd_csv\\D_20210517_OData1.csv\n",
      "Finished X:\\Projects\\SPY Data\\Data\\Consol\\cmd_csv\\D_20210517_OData2.csv\n",
      "Finished X:\\Projects\\SPY Data\\Data\\Consol\\cmd_csv\\D_20210518_OData1.csv\n",
      "Finished X:\\Projects\\SPY Data\\Data\\Consol\\cmd_csv\\D_20210518_OData2.csv\n",
      "\n"
     ]
    }
   ],
   "source": [
    "import tqdm\n",
    "\n",
    "path = R\"X:\\Projects\\SPY Data\\Data\\Consol\\cmd_csv\"\n",
    "all_files = glob.iglob(os.path.join(path, \"*.csv\"))\n",
    "li = []\n",
    "col_names = [\"ID\", \"Ticker\",\"Expiration\",\"Ask\",\"Asize\",\"Bid\",\"Bsize\",\"Last\",\"Type\",\"Strike\",\"Vol\",\"OpenInterest\",\"Underlying\",\"DataDate\"]\n",
    "\n",
    "for f in tqdm.notebook.tqdm(all_files):\n",
    "    try:\n",
    "        df = pd.read_csv(f, index_col=None, skiprows=1, names=col_names, parse_dates=[\"Expiration\", \"DataDate\"])\n",
    "        df = df[df[\"Ticker\"]==\"SPY\"]\n",
    "        li.append(df)\n",
    "        print(\"Finished \" + str(f))\n",
    "    except:\n",
    "        print(\"NO SPY NO SPY\" + str(f))"
   ]
  },
  {
   "cell_type": "code",
   "execution_count": 88,
   "metadata": {},
   "outputs": [],
   "source": [
    "# join all the csvs together once consolidated\n",
    "\n",
    "frame = pd.concat(li, axis=0, ignore_index = True)"
   ]
  },
  {
   "source": [
    "## Reading the pickle file"
   ],
   "cell_type": "markdown",
   "metadata": {}
  },
  {
   "cell_type": "code",
   "execution_count": 2,
   "metadata": {},
   "outputs": [],
   "source": [
    "frame = pd.read_pickle(\"SPY_options.pickle\")"
   ]
  },
  {
   "cell_type": "code",
   "execution_count": 3,
   "metadata": {},
   "outputs": [
    {
     "output_type": "stream",
     "name": "stderr",
     "text": [
      "<ipython-input-3-d019f961a97e>:2: SettingWithCopyWarning: \nA value is trying to be set on a copy of a slice from a DataFrame.\nTry using .loc[row_indexer,col_indexer] = value instead\n\nSee the caveats in the documentation: https://pandas.pydata.org/pandas-docs/stable/user_guide/indexing.html#returning-a-view-versus-a-copy\n  truncated[\"DataDate\"] = pd.to_datetime(truncated[\"DataDate\"])\n"
     ]
    }
   ],
   "source": [
    "from datetime import timedelta\n",
    "from datetime import date\n",
    "\n",
    "# create a truncated test kit\n",
    "\n",
    "truncated = frame.head(n = 100000)\n",
    "truncated[\"DataDate\"] = pd.to_datetime(truncated[\"DataDate\"])\n",
    "truncated = truncated.sort_values(by=\"DataDate\").reset_index()\n",
    "truncated[\"DTE\"] = truncated[\"Expiration\"]- truncated[\"DataDate\"]\n",
    "truncated[[\"oid\", \"iddate\"]] = truncated[\"ID\"].str.split(pat=\".\", expand=True)"
   ]
  },
  {
   "cell_type": "code",
   "execution_count": 10,
   "metadata": {},
   "outputs": [
    {
     "output_type": "execute_result",
     "data": {
      "text/plain": [
       "       index                              ID Ticker Expiration   Ask  Asize  \\\n",
       "11501  21990  SPY2019-06-14P288.002019-06-07    SPY 2019-06-14  2.35      1   \n",
       "17572  29915  SPY2019-06-17P288.002019-06-10    SPY 2019-06-17  1.62    500   \n",
       "34258  45160  SPY2019-06-19P288.002019-06-12    SPY 2019-06-19  1.91    237   \n",
       "45770  61338  SPY2019-06-21P288.002019-06-14    SPY 2019-06-21  1.90    122   \n",
       "52945  68948  SPY2019-06-24P288.002019-06-17    SPY 2019-06-24  1.89    309   \n",
       "72326  83815  SPY2019-06-26P288.002019-06-19    SPY 2019-06-26  0.70    140   \n",
       "85144  94498  SPY2019-07-01P288.002019-06-24    SPY 2019-07-01  0.85    394   \n",
       "91690    543  SPY2019-08-07p288.002019-07-31    SPY 2019-08-07  0.66    417   \n",
       "98169   7009  SPY2019-10-07p288.002019-09-30    SPY 2019-10-07  0.29      0   \n",
       "\n",
       "           Bid  Bsize  Last Type  Strike    Vol  OpenInterest  Underlying  \\\n",
       "11501     2.34    269  2.35  put   288.0  11647          3584      287.65   \n",
       "17572     1.59    303  1.60  put   288.0   3368           586      288.97   \n",
       "34258     1.88    180  2.00  put   288.0   7101          5233      288.39   \n",
       "45770     1.88    275  1.89  put   288.0  11547         45986      289.26   \n",
       "52945     1.86    100  1.99  put   288.0    393           661      289.37   \n",
       "72326     0.69    889  0.65  put   288.0   1361          2510      293.06   \n",
       "85144     0.83    951  0.89  put   288.0    941          4437      293.64   \n",
       "91690     0.64    888  0.60  put   288.0    981           492      297.43   \n",
       "98169  1870.00    339  0.34  put   288.0    662           831      296.77   \n",
       "\n",
       "        DataDate    DTE  \n",
       "11501 2019-06-07 7 days  \n",
       "17572 2019-06-10 7 days  \n",
       "34258 2019-06-12 7 days  \n",
       "45770 2019-06-14 7 days  \n",
       "52945 2019-06-17 7 days  \n",
       "72326 2019-06-19 7 days  \n",
       "85144 2019-06-24 7 days  \n",
       "91690 2019-07-31 7 days  \n",
       "98169 2019-09-30 7 days  "
      ],
      "text/html": "<div>\n<style scoped>\n    .dataframe tbody tr th:only-of-type {\n        vertical-align: middle;\n    }\n\n    .dataframe tbody tr th {\n        vertical-align: top;\n    }\n\n    .dataframe thead th {\n        text-align: right;\n    }\n</style>\n<table border=\"1\" class=\"dataframe\">\n  <thead>\n    <tr style=\"text-align: right;\">\n      <th></th>\n      <th>index</th>\n      <th>ID</th>\n      <th>Ticker</th>\n      <th>Expiration</th>\n      <th>Ask</th>\n      <th>Asize</th>\n      <th>Bid</th>\n      <th>Bsize</th>\n      <th>Last</th>\n      <th>Type</th>\n      <th>Strike</th>\n      <th>Vol</th>\n      <th>OpenInterest</th>\n      <th>Underlying</th>\n      <th>DataDate</th>\n      <th>DTE</th>\n    </tr>\n  </thead>\n  <tbody>\n    <tr>\n      <th>11501</th>\n      <td>21990</td>\n      <td>SPY2019-06-14P288.002019-06-07</td>\n      <td>SPY</td>\n      <td>2019-06-14</td>\n      <td>2.35</td>\n      <td>1</td>\n      <td>2.34</td>\n      <td>269</td>\n      <td>2.35</td>\n      <td>put</td>\n      <td>288.0</td>\n      <td>11647</td>\n      <td>3584</td>\n      <td>287.65</td>\n      <td>2019-06-07</td>\n      <td>7 days</td>\n    </tr>\n    <tr>\n      <th>17572</th>\n      <td>29915</td>\n      <td>SPY2019-06-17P288.002019-06-10</td>\n      <td>SPY</td>\n      <td>2019-06-17</td>\n      <td>1.62</td>\n      <td>500</td>\n      <td>1.59</td>\n      <td>303</td>\n      <td>1.60</td>\n      <td>put</td>\n      <td>288.0</td>\n      <td>3368</td>\n      <td>586</td>\n      <td>288.97</td>\n      <td>2019-06-10</td>\n      <td>7 days</td>\n    </tr>\n    <tr>\n      <th>34258</th>\n      <td>45160</td>\n      <td>SPY2019-06-19P288.002019-06-12</td>\n      <td>SPY</td>\n      <td>2019-06-19</td>\n      <td>1.91</td>\n      <td>237</td>\n      <td>1.88</td>\n      <td>180</td>\n      <td>2.00</td>\n      <td>put</td>\n      <td>288.0</td>\n      <td>7101</td>\n      <td>5233</td>\n      <td>288.39</td>\n      <td>2019-06-12</td>\n      <td>7 days</td>\n    </tr>\n    <tr>\n      <th>45770</th>\n      <td>61338</td>\n      <td>SPY2019-06-21P288.002019-06-14</td>\n      <td>SPY</td>\n      <td>2019-06-21</td>\n      <td>1.90</td>\n      <td>122</td>\n      <td>1.88</td>\n      <td>275</td>\n      <td>1.89</td>\n      <td>put</td>\n      <td>288.0</td>\n      <td>11547</td>\n      <td>45986</td>\n      <td>289.26</td>\n      <td>2019-06-14</td>\n      <td>7 days</td>\n    </tr>\n    <tr>\n      <th>52945</th>\n      <td>68948</td>\n      <td>SPY2019-06-24P288.002019-06-17</td>\n      <td>SPY</td>\n      <td>2019-06-24</td>\n      <td>1.89</td>\n      <td>309</td>\n      <td>1.86</td>\n      <td>100</td>\n      <td>1.99</td>\n      <td>put</td>\n      <td>288.0</td>\n      <td>393</td>\n      <td>661</td>\n      <td>289.37</td>\n      <td>2019-06-17</td>\n      <td>7 days</td>\n    </tr>\n    <tr>\n      <th>72326</th>\n      <td>83815</td>\n      <td>SPY2019-06-26P288.002019-06-19</td>\n      <td>SPY</td>\n      <td>2019-06-26</td>\n      <td>0.70</td>\n      <td>140</td>\n      <td>0.69</td>\n      <td>889</td>\n      <td>0.65</td>\n      <td>put</td>\n      <td>288.0</td>\n      <td>1361</td>\n      <td>2510</td>\n      <td>293.06</td>\n      <td>2019-06-19</td>\n      <td>7 days</td>\n    </tr>\n    <tr>\n      <th>85144</th>\n      <td>94498</td>\n      <td>SPY2019-07-01P288.002019-06-24</td>\n      <td>SPY</td>\n      <td>2019-07-01</td>\n      <td>0.85</td>\n      <td>394</td>\n      <td>0.83</td>\n      <td>951</td>\n      <td>0.89</td>\n      <td>put</td>\n      <td>288.0</td>\n      <td>941</td>\n      <td>4437</td>\n      <td>293.64</td>\n      <td>2019-06-24</td>\n      <td>7 days</td>\n    </tr>\n    <tr>\n      <th>91690</th>\n      <td>543</td>\n      <td>SPY2019-08-07p288.002019-07-31</td>\n      <td>SPY</td>\n      <td>2019-08-07</td>\n      <td>0.66</td>\n      <td>417</td>\n      <td>0.64</td>\n      <td>888</td>\n      <td>0.60</td>\n      <td>put</td>\n      <td>288.0</td>\n      <td>981</td>\n      <td>492</td>\n      <td>297.43</td>\n      <td>2019-07-31</td>\n      <td>7 days</td>\n    </tr>\n    <tr>\n      <th>98169</th>\n      <td>7009</td>\n      <td>SPY2019-10-07p288.002019-09-30</td>\n      <td>SPY</td>\n      <td>2019-10-07</td>\n      <td>0.29</td>\n      <td>0</td>\n      <td>1870.00</td>\n      <td>339</td>\n      <td>0.34</td>\n      <td>put</td>\n      <td>288.0</td>\n      <td>662</td>\n      <td>831</td>\n      <td>296.77</td>\n      <td>2019-09-30</td>\n      <td>7 days</td>\n    </tr>\n  </tbody>\n</table>\n</div>"
     },
     "metadata": {},
     "execution_count": 10
    }
   ],
   "source": [
    "truncated[(truncated[\"DTE\"] == timedelta(currDTE)) & (truncated[\"Strike\"] == 288) & (truncated[\"Type\"] == \"put\")]"
   ]
  },
  {
   "cell_type": "code",
   "execution_count": 121,
   "metadata": {},
   "outputs": [],
   "source": [
    "curr_trade = truncated[(truncated[\"DataDate\"] == truncated[\"DataDate\"].min() + timedelta(1)) & (truncated[\"Strike\"] == 288) & (truncated[\"Type\"] == \"put\") & (truncated[\"DTE\"] < timedelta(5)) & (truncated[\"DTE\"] > timedelta(1))][\"oid\"].values[0]"
   ]
  },
  {
   "cell_type": "code",
   "execution_count": 122,
   "metadata": {},
   "outputs": [
    {
     "output_type": "execute_result",
     "data": {
      "text/plain": [
       "       index                              ID Ticker Expiration   Ask  Asize  \\\n",
       "4712   14196  SPY2019-06-10P288.002019-06-06    SPY 2019-06-10  3.60    340   \n",
       "11353  21506  SPY2019-06-10P288.002019-06-07    SPY 2019-06-10  1.31    349   \n",
       "14648  28924  SPY2019-06-10P288.002019-06-10    SPY 2019-06-10  0.01   4475   \n",
       "27328  36130  SPY2019-06-10P288.002019-06-11    SPY 2019-06-10  0.01   3403   \n",
       "29824  43552  SPY2019-06-10P288.002019-06-12    SPY 2019-06-10  0.01   3403   \n",
       "40804  51198  SPY2019-06-10P288.002019-06-13    SPY 2019-06-10  0.01   3403   \n",
       "49947  58688  SPY2019-06-10P288.002019-06-14    SPY 2019-06-10  0.01   3403   \n",
       "55897  66050  SPY2019-06-10P288.002019-06-17    SPY 2019-06-10  0.01   3403   \n",
       "61244  73220  SPY2019-06-10P288.002019-06-18    SPY 2019-06-10  0.01   3403   \n",
       "71248  80507  SPY2019-06-10P288.002019-06-19    SPY 2019-06-10  0.01   3403   \n",
       "77397  87879  SPY2019-06-10P288.002019-06-20    SPY 2019-06-10  0.01   3403   \n",
       "\n",
       "        Bid  Bsize  Last Type  Strike    Vol  OpenInterest  Underlying  \\\n",
       "4712   3.40    380  3.11  put   288.0     37            23      284.80   \n",
       "11353  1.28     55  1.30  put   288.0  36598            45      287.65   \n",
       "14648  0.00      0  0.01  put   288.0  50018          8721      288.97   \n",
       "27328  0.00      0  0.01  put   288.0      0         14238      288.90   \n",
       "29824  0.00      0  0.01  put   288.0      0         14238      288.39   \n",
       "40804  0.00      0  0.01  put   288.0      0         14238      289.58   \n",
       "49947  0.00      0  0.01  put   288.0      0         14238      289.26   \n",
       "55897  0.00      0  0.01  put   288.0      0         14238      289.37   \n",
       "61244  0.00      0  0.01  put   288.0      0         14238      292.40   \n",
       "71248  0.00      0  0.01  put   288.0      0         14238      293.06   \n",
       "77397  0.00      0  0.01  put   288.0      0         14238      295.86   \n",
       "\n",
       "        DataDate      DTE                oid        iddate  \n",
       "4712  2019-06-06   4 days  SPY2019-06-10P288  002019-06-06  \n",
       "11353 2019-06-07   3 days  SPY2019-06-10P288  002019-06-07  \n",
       "14648 2019-06-10   0 days  SPY2019-06-10P288  002019-06-10  \n",
       "27328 2019-06-11  -1 days  SPY2019-06-10P288  002019-06-11  \n",
       "29824 2019-06-12  -2 days  SPY2019-06-10P288  002019-06-12  \n",
       "40804 2019-06-13  -3 days  SPY2019-06-10P288  002019-06-13  \n",
       "49947 2019-06-14  -4 days  SPY2019-06-10P288  002019-06-14  \n",
       "55897 2019-06-17  -7 days  SPY2019-06-10P288  002019-06-17  \n",
       "61244 2019-06-18  -8 days  SPY2019-06-10P288  002019-06-18  \n",
       "71248 2019-06-19  -9 days  SPY2019-06-10P288  002019-06-19  \n",
       "77397 2019-06-20 -10 days  SPY2019-06-10P288  002019-06-20  "
      ],
      "text/html": "<div>\n<style scoped>\n    .dataframe tbody tr th:only-of-type {\n        vertical-align: middle;\n    }\n\n    .dataframe tbody tr th {\n        vertical-align: top;\n    }\n\n    .dataframe thead th {\n        text-align: right;\n    }\n</style>\n<table border=\"1\" class=\"dataframe\">\n  <thead>\n    <tr style=\"text-align: right;\">\n      <th></th>\n      <th>index</th>\n      <th>ID</th>\n      <th>Ticker</th>\n      <th>Expiration</th>\n      <th>Ask</th>\n      <th>Asize</th>\n      <th>Bid</th>\n      <th>Bsize</th>\n      <th>Last</th>\n      <th>Type</th>\n      <th>Strike</th>\n      <th>Vol</th>\n      <th>OpenInterest</th>\n      <th>Underlying</th>\n      <th>DataDate</th>\n      <th>DTE</th>\n      <th>oid</th>\n      <th>iddate</th>\n    </tr>\n  </thead>\n  <tbody>\n    <tr>\n      <th>4712</th>\n      <td>14196</td>\n      <td>SPY2019-06-10P288.002019-06-06</td>\n      <td>SPY</td>\n      <td>2019-06-10</td>\n      <td>3.60</td>\n      <td>340</td>\n      <td>3.40</td>\n      <td>380</td>\n      <td>3.11</td>\n      <td>put</td>\n      <td>288.0</td>\n      <td>37</td>\n      <td>23</td>\n      <td>284.80</td>\n      <td>2019-06-06</td>\n      <td>4 days</td>\n      <td>SPY2019-06-10P288</td>\n      <td>002019-06-06</td>\n    </tr>\n    <tr>\n      <th>11353</th>\n      <td>21506</td>\n      <td>SPY2019-06-10P288.002019-06-07</td>\n      <td>SPY</td>\n      <td>2019-06-10</td>\n      <td>1.31</td>\n      <td>349</td>\n      <td>1.28</td>\n      <td>55</td>\n      <td>1.30</td>\n      <td>put</td>\n      <td>288.0</td>\n      <td>36598</td>\n      <td>45</td>\n      <td>287.65</td>\n      <td>2019-06-07</td>\n      <td>3 days</td>\n      <td>SPY2019-06-10P288</td>\n      <td>002019-06-07</td>\n    </tr>\n    <tr>\n      <th>14648</th>\n      <td>28924</td>\n      <td>SPY2019-06-10P288.002019-06-10</td>\n      <td>SPY</td>\n      <td>2019-06-10</td>\n      <td>0.01</td>\n      <td>4475</td>\n      <td>0.00</td>\n      <td>0</td>\n      <td>0.01</td>\n      <td>put</td>\n      <td>288.0</td>\n      <td>50018</td>\n      <td>8721</td>\n      <td>288.97</td>\n      <td>2019-06-10</td>\n      <td>0 days</td>\n      <td>SPY2019-06-10P288</td>\n      <td>002019-06-10</td>\n    </tr>\n    <tr>\n      <th>27328</th>\n      <td>36130</td>\n      <td>SPY2019-06-10P288.002019-06-11</td>\n      <td>SPY</td>\n      <td>2019-06-10</td>\n      <td>0.01</td>\n      <td>3403</td>\n      <td>0.00</td>\n      <td>0</td>\n      <td>0.01</td>\n      <td>put</td>\n      <td>288.0</td>\n      <td>0</td>\n      <td>14238</td>\n      <td>288.90</td>\n      <td>2019-06-11</td>\n      <td>-1 days</td>\n      <td>SPY2019-06-10P288</td>\n      <td>002019-06-11</td>\n    </tr>\n    <tr>\n      <th>29824</th>\n      <td>43552</td>\n      <td>SPY2019-06-10P288.002019-06-12</td>\n      <td>SPY</td>\n      <td>2019-06-10</td>\n      <td>0.01</td>\n      <td>3403</td>\n      <td>0.00</td>\n      <td>0</td>\n      <td>0.01</td>\n      <td>put</td>\n      <td>288.0</td>\n      <td>0</td>\n      <td>14238</td>\n      <td>288.39</td>\n      <td>2019-06-12</td>\n      <td>-2 days</td>\n      <td>SPY2019-06-10P288</td>\n      <td>002019-06-12</td>\n    </tr>\n    <tr>\n      <th>40804</th>\n      <td>51198</td>\n      <td>SPY2019-06-10P288.002019-06-13</td>\n      <td>SPY</td>\n      <td>2019-06-10</td>\n      <td>0.01</td>\n      <td>3403</td>\n      <td>0.00</td>\n      <td>0</td>\n      <td>0.01</td>\n      <td>put</td>\n      <td>288.0</td>\n      <td>0</td>\n      <td>14238</td>\n      <td>289.58</td>\n      <td>2019-06-13</td>\n      <td>-3 days</td>\n      <td>SPY2019-06-10P288</td>\n      <td>002019-06-13</td>\n    </tr>\n    <tr>\n      <th>49947</th>\n      <td>58688</td>\n      <td>SPY2019-06-10P288.002019-06-14</td>\n      <td>SPY</td>\n      <td>2019-06-10</td>\n      <td>0.01</td>\n      <td>3403</td>\n      <td>0.00</td>\n      <td>0</td>\n      <td>0.01</td>\n      <td>put</td>\n      <td>288.0</td>\n      <td>0</td>\n      <td>14238</td>\n      <td>289.26</td>\n      <td>2019-06-14</td>\n      <td>-4 days</td>\n      <td>SPY2019-06-10P288</td>\n      <td>002019-06-14</td>\n    </tr>\n    <tr>\n      <th>55897</th>\n      <td>66050</td>\n      <td>SPY2019-06-10P288.002019-06-17</td>\n      <td>SPY</td>\n      <td>2019-06-10</td>\n      <td>0.01</td>\n      <td>3403</td>\n      <td>0.00</td>\n      <td>0</td>\n      <td>0.01</td>\n      <td>put</td>\n      <td>288.0</td>\n      <td>0</td>\n      <td>14238</td>\n      <td>289.37</td>\n      <td>2019-06-17</td>\n      <td>-7 days</td>\n      <td>SPY2019-06-10P288</td>\n      <td>002019-06-17</td>\n    </tr>\n    <tr>\n      <th>61244</th>\n      <td>73220</td>\n      <td>SPY2019-06-10P288.002019-06-18</td>\n      <td>SPY</td>\n      <td>2019-06-10</td>\n      <td>0.01</td>\n      <td>3403</td>\n      <td>0.00</td>\n      <td>0</td>\n      <td>0.01</td>\n      <td>put</td>\n      <td>288.0</td>\n      <td>0</td>\n      <td>14238</td>\n      <td>292.40</td>\n      <td>2019-06-18</td>\n      <td>-8 days</td>\n      <td>SPY2019-06-10P288</td>\n      <td>002019-06-18</td>\n    </tr>\n    <tr>\n      <th>71248</th>\n      <td>80507</td>\n      <td>SPY2019-06-10P288.002019-06-19</td>\n      <td>SPY</td>\n      <td>2019-06-10</td>\n      <td>0.01</td>\n      <td>3403</td>\n      <td>0.00</td>\n      <td>0</td>\n      <td>0.01</td>\n      <td>put</td>\n      <td>288.0</td>\n      <td>0</td>\n      <td>14238</td>\n      <td>293.06</td>\n      <td>2019-06-19</td>\n      <td>-9 days</td>\n      <td>SPY2019-06-10P288</td>\n      <td>002019-06-19</td>\n    </tr>\n    <tr>\n      <th>77397</th>\n      <td>87879</td>\n      <td>SPY2019-06-10P288.002019-06-20</td>\n      <td>SPY</td>\n      <td>2019-06-10</td>\n      <td>0.01</td>\n      <td>3403</td>\n      <td>0.00</td>\n      <td>0</td>\n      <td>0.01</td>\n      <td>put</td>\n      <td>288.0</td>\n      <td>0</td>\n      <td>14238</td>\n      <td>295.86</td>\n      <td>2019-06-20</td>\n      <td>-10 days</td>\n      <td>SPY2019-06-10P288</td>\n      <td>002019-06-20</td>\n    </tr>\n  </tbody>\n</table>\n</div>"
     },
     "metadata": {},
     "execution_count": 122
    }
   ],
   "source": [
    "truncated[truncated[\"oid\"] == curr_trade]"
   ]
  },
  {
   "source": [
    "## Testing backtesting functions"
   ],
   "cell_type": "markdown",
   "metadata": {}
  },
  {
   "cell_type": "code",
   "execution_count": 2,
   "metadata": {},
   "outputs": [],
   "source": [
    "from fuctions import Trade, AccountBal, TradeOperations\n",
    "from datetime import timedelta\n",
    "from datetime import date\n",
    "\n",
    "truncated = pd.read_pickle(\"truncated.pickle\")"
   ]
  },
  {
   "cell_type": "code",
   "execution_count": 7,
   "metadata": {},
   "outputs": [],
   "source": [
    "curr_trade_open = Trade(\"SPY2019-06-10P288\", 3.40, date(2019,6,10))\n",
    "curr_trade_close = Trade(\"SPY2019-06-10P288\", 0.40, date(2019,6,10))\n",
    "next_trade = Trade(\"SPY2019-06-17P290\", 2.40, date(2019,6,17))\n",
    "my_account = AccountBal(100)"
   ]
  },
  {
   "cell_type": "code",
   "execution_count": 3,
   "metadata": {},
   "outputs": [],
   "source": [
    "start_date = truncated[\"DataDate\"].min()"
   ]
  },
  {
   "cell_type": "code",
   "execution_count": 31,
   "metadata": {},
   "outputs": [
    {
     "output_type": "execute_result",
     "data": {
      "text/plain": [
       "284.8"
      ]
     },
     "metadata": {},
     "execution_count": 31
    }
   ],
   "source": [
    "truncated[truncated[\"DataDate\"] == start_date][\"Underlying\"][0]"
   ]
  },
  {
   "cell_type": "code",
   "execution_count": 8,
   "metadata": {
    "tags": []
   },
   "outputs": [],
   "source": [
    "start_date = truncated[\"DataDate\"].min()\n",
    "\n",
    "def run_backtest(curr_date, dataset):\n",
    "\n",
    "    curr_account = AccountBal(100)\n",
    "    tradeOn = False\n",
    "\n",
    "    while curr_date < dataset[\"DataDate\"].max(): # loop through the days\n",
    "        curr_date += timedelta(1)\n",
    "        daily_set = dataset[dataset[\"DataDate\"] == curr_date]\n",
    "        if tradeOn == False: # if there is no trade on, we want to search for a trade\n",
    "            new_trade = Trade(TradeOperations.find_trade(dataset)) # create new trade class\n",
    "            tradeOn = True\n",
    "            curr_account.add_trade(new_trade.get_value())\n",
    "            print(curr_account.trade_val)\n",
    "            \n",
    "        elif tradeOn == Trade:\n",
    "            pass\n",
    "                    "
   ]
  },
  {
   "cell_type": "code",
   "execution_count": 9,
   "metadata": {
    "tags": []
   },
   "outputs": [
    {
     "output_type": "stream",
     "name": "stdout",
     "text": [
      "<fuctions.Trade object at 0x000002430B5526D0>\n[2.34]\n"
     ]
    }
   ],
   "source": [
    "run_backtest(start_date, truncated)"
   ]
  },
  {
   "cell_type": "code",
   "execution_count": 6,
   "metadata": {},
   "outputs": [
    {
     "output_type": "execute_result",
     "data": {
      "text/plain": [
       "'SPY2019-06-14P285'"
      ]
     },
     "metadata": {},
     "execution_count": 6
    }
   ],
   "source": [
    "TradeOperations.find_trade(sample_day)"
   ]
  },
  {
   "cell_type": "code",
   "execution_count": 3,
   "metadata": {},
   "outputs": [],
   "source": [
    "sample_day = truncated[truncated[\"DataDate\"] == truncated[\"DataDate\"].min()]"
   ]
  },
  {
   "cell_type": "code",
   "execution_count": 5,
   "metadata": {},
   "outputs": [
    {
     "output_type": "execute_result",
     "data": {
      "text/plain": [
       "'SPY2019-06-14P285'"
      ]
     },
     "metadata": {},
     "execution_count": 5
    }
   ],
   "source": [
    "TradeOperations.find_trade(sample_day)[0]"
   ]
  },
  {
   "cell_type": "code",
   "execution_count": 22,
   "metadata": {},
   "outputs": [
    {
     "output_type": "execute_result",
     "data": {
      "text/plain": [
       "      index                              ID Ticker Expiration     Ask  Asize  \\\n",
       "0     15671  SPY2019-12-20C130.002019-06-06    SPY 2019-12-20  155.03     37   \n",
       "1     17942  SPY2019-12-31P309.002019-06-06    SPY 2019-12-31   27.14     37   \n",
       "2     17941  SPY2019-12-31P308.002019-06-06    SPY 2019-12-31   26.35    113   \n",
       "3     17940  SPY2019-12-31P307.002019-06-06    SPY 2019-12-31   25.58    113   \n",
       "4     17939  SPY2019-12-31P306.002019-06-06    SPY 2019-12-31   24.83    169   \n",
       "...     ...                             ...    ...        ...     ...    ...   \n",
       "7295  15495  SPY2019-07-19P310.002019-06-06    SPY 2019-07-19   26.50    251   \n",
       "7296  15494  SPY2019-07-19P309.002019-06-06    SPY 2019-07-19   25.53    251   \n",
       "7297  15492  SPY2019-07-19P307.002019-06-06    SPY 2019-07-19   23.54    251   \n",
       "7298  14641  SPY2019-06-14P264.002019-06-06    SPY 2019-06-14    0.04   2010   \n",
       "7299  14642  SPY2019-06-14P265.002019-06-06    SPY 2019-06-14    0.05   6185   \n",
       "\n",
       "         Bid  Bsize    Last  Type  Strike   Vol  OpenInterest  Underlying  \\\n",
       "0     154.72     37  118.66  call   130.0     0            11       284.8   \n",
       "1      26.87    152    0.00   put   309.0     0             0       284.8   \n",
       "2      26.08    152   21.35   put   308.0     0            25       284.8   \n",
       "3      25.32    314   33.00   put   307.0     0             0       284.8   \n",
       "4      24.55    153    0.00   put   306.0     0             0       284.8   \n",
       "...      ...    ...     ...   ...     ...   ...           ...         ...   \n",
       "7295   26.30    338   27.79   put   310.0  1001           120       284.8   \n",
       "7296   25.25    251   26.24   put   309.0     0            15       284.8   \n",
       "7297   23.27    251   19.10   put   307.0     0            11       284.8   \n",
       "7298    0.03   4520    0.04   put   264.0   303          4215       284.8   \n",
       "7299    0.04   2764    0.05   put   265.0  4442         18731       284.8   \n",
       "\n",
       "       DataDate      DTE                oid        iddate  \n",
       "0    2019-06-06 197 days  SPY2019-12-20C130  002019-06-06  \n",
       "1    2019-06-06 208 days  SPY2019-12-31P309  002019-06-06  \n",
       "2    2019-06-06 208 days  SPY2019-12-31P308  002019-06-06  \n",
       "3    2019-06-06 208 days  SPY2019-12-31P307  002019-06-06  \n",
       "4    2019-06-06 208 days  SPY2019-12-31P306  002019-06-06  \n",
       "...         ...      ...                ...           ...  \n",
       "7295 2019-06-06  43 days  SPY2019-07-19P310  002019-06-06  \n",
       "7296 2019-06-06  43 days  SPY2019-07-19P309  002019-06-06  \n",
       "7297 2019-06-06  43 days  SPY2019-07-19P307  002019-06-06  \n",
       "7298 2019-06-06   8 days  SPY2019-06-14P264  002019-06-06  \n",
       "7299 2019-06-06   8 days  SPY2019-06-14P265  002019-06-06  \n",
       "\n",
       "[7300 rows x 18 columns]"
      ],
      "text/html": "<div>\n<style scoped>\n    .dataframe tbody tr th:only-of-type {\n        vertical-align: middle;\n    }\n\n    .dataframe tbody tr th {\n        vertical-align: top;\n    }\n\n    .dataframe thead th {\n        text-align: right;\n    }\n</style>\n<table border=\"1\" class=\"dataframe\">\n  <thead>\n    <tr style=\"text-align: right;\">\n      <th></th>\n      <th>index</th>\n      <th>ID</th>\n      <th>Ticker</th>\n      <th>Expiration</th>\n      <th>Ask</th>\n      <th>Asize</th>\n      <th>Bid</th>\n      <th>Bsize</th>\n      <th>Last</th>\n      <th>Type</th>\n      <th>Strike</th>\n      <th>Vol</th>\n      <th>OpenInterest</th>\n      <th>Underlying</th>\n      <th>DataDate</th>\n      <th>DTE</th>\n      <th>oid</th>\n      <th>iddate</th>\n    </tr>\n  </thead>\n  <tbody>\n    <tr>\n      <th>0</th>\n      <td>15671</td>\n      <td>SPY2019-12-20C130.002019-06-06</td>\n      <td>SPY</td>\n      <td>2019-12-20</td>\n      <td>155.03</td>\n      <td>37</td>\n      <td>154.72</td>\n      <td>37</td>\n      <td>118.66</td>\n      <td>call</td>\n      <td>130.0</td>\n      <td>0</td>\n      <td>11</td>\n      <td>284.8</td>\n      <td>2019-06-06</td>\n      <td>197 days</td>\n      <td>SPY2019-12-20C130</td>\n      <td>002019-06-06</td>\n    </tr>\n    <tr>\n      <th>1</th>\n      <td>17942</td>\n      <td>SPY2019-12-31P309.002019-06-06</td>\n      <td>SPY</td>\n      <td>2019-12-31</td>\n      <td>27.14</td>\n      <td>37</td>\n      <td>26.87</td>\n      <td>152</td>\n      <td>0.00</td>\n      <td>put</td>\n      <td>309.0</td>\n      <td>0</td>\n      <td>0</td>\n      <td>284.8</td>\n      <td>2019-06-06</td>\n      <td>208 days</td>\n      <td>SPY2019-12-31P309</td>\n      <td>002019-06-06</td>\n    </tr>\n    <tr>\n      <th>2</th>\n      <td>17941</td>\n      <td>SPY2019-12-31P308.002019-06-06</td>\n      <td>SPY</td>\n      <td>2019-12-31</td>\n      <td>26.35</td>\n      <td>113</td>\n      <td>26.08</td>\n      <td>152</td>\n      <td>21.35</td>\n      <td>put</td>\n      <td>308.0</td>\n      <td>0</td>\n      <td>25</td>\n      <td>284.8</td>\n      <td>2019-06-06</td>\n      <td>208 days</td>\n      <td>SPY2019-12-31P308</td>\n      <td>002019-06-06</td>\n    </tr>\n    <tr>\n      <th>3</th>\n      <td>17940</td>\n      <td>SPY2019-12-31P307.002019-06-06</td>\n      <td>SPY</td>\n      <td>2019-12-31</td>\n      <td>25.58</td>\n      <td>113</td>\n      <td>25.32</td>\n      <td>314</td>\n      <td>33.00</td>\n      <td>put</td>\n      <td>307.0</td>\n      <td>0</td>\n      <td>0</td>\n      <td>284.8</td>\n      <td>2019-06-06</td>\n      <td>208 days</td>\n      <td>SPY2019-12-31P307</td>\n      <td>002019-06-06</td>\n    </tr>\n    <tr>\n      <th>4</th>\n      <td>17939</td>\n      <td>SPY2019-12-31P306.002019-06-06</td>\n      <td>SPY</td>\n      <td>2019-12-31</td>\n      <td>24.83</td>\n      <td>169</td>\n      <td>24.55</td>\n      <td>153</td>\n      <td>0.00</td>\n      <td>put</td>\n      <td>306.0</td>\n      <td>0</td>\n      <td>0</td>\n      <td>284.8</td>\n      <td>2019-06-06</td>\n      <td>208 days</td>\n      <td>SPY2019-12-31P306</td>\n      <td>002019-06-06</td>\n    </tr>\n    <tr>\n      <th>...</th>\n      <td>...</td>\n      <td>...</td>\n      <td>...</td>\n      <td>...</td>\n      <td>...</td>\n      <td>...</td>\n      <td>...</td>\n      <td>...</td>\n      <td>...</td>\n      <td>...</td>\n      <td>...</td>\n      <td>...</td>\n      <td>...</td>\n      <td>...</td>\n      <td>...</td>\n      <td>...</td>\n      <td>...</td>\n      <td>...</td>\n    </tr>\n    <tr>\n      <th>7295</th>\n      <td>15495</td>\n      <td>SPY2019-07-19P310.002019-06-06</td>\n      <td>SPY</td>\n      <td>2019-07-19</td>\n      <td>26.50</td>\n      <td>251</td>\n      <td>26.30</td>\n      <td>338</td>\n      <td>27.79</td>\n      <td>put</td>\n      <td>310.0</td>\n      <td>1001</td>\n      <td>120</td>\n      <td>284.8</td>\n      <td>2019-06-06</td>\n      <td>43 days</td>\n      <td>SPY2019-07-19P310</td>\n      <td>002019-06-06</td>\n    </tr>\n    <tr>\n      <th>7296</th>\n      <td>15494</td>\n      <td>SPY2019-07-19P309.002019-06-06</td>\n      <td>SPY</td>\n      <td>2019-07-19</td>\n      <td>25.53</td>\n      <td>251</td>\n      <td>25.25</td>\n      <td>251</td>\n      <td>26.24</td>\n      <td>put</td>\n      <td>309.0</td>\n      <td>0</td>\n      <td>15</td>\n      <td>284.8</td>\n      <td>2019-06-06</td>\n      <td>43 days</td>\n      <td>SPY2019-07-19P309</td>\n      <td>002019-06-06</td>\n    </tr>\n    <tr>\n      <th>7297</th>\n      <td>15492</td>\n      <td>SPY2019-07-19P307.002019-06-06</td>\n      <td>SPY</td>\n      <td>2019-07-19</td>\n      <td>23.54</td>\n      <td>251</td>\n      <td>23.27</td>\n      <td>251</td>\n      <td>19.10</td>\n      <td>put</td>\n      <td>307.0</td>\n      <td>0</td>\n      <td>11</td>\n      <td>284.8</td>\n      <td>2019-06-06</td>\n      <td>43 days</td>\n      <td>SPY2019-07-19P307</td>\n      <td>002019-06-06</td>\n    </tr>\n    <tr>\n      <th>7298</th>\n      <td>14641</td>\n      <td>SPY2019-06-14P264.002019-06-06</td>\n      <td>SPY</td>\n      <td>2019-06-14</td>\n      <td>0.04</td>\n      <td>2010</td>\n      <td>0.03</td>\n      <td>4520</td>\n      <td>0.04</td>\n      <td>put</td>\n      <td>264.0</td>\n      <td>303</td>\n      <td>4215</td>\n      <td>284.8</td>\n      <td>2019-06-06</td>\n      <td>8 days</td>\n      <td>SPY2019-06-14P264</td>\n      <td>002019-06-06</td>\n    </tr>\n    <tr>\n      <th>7299</th>\n      <td>14642</td>\n      <td>SPY2019-06-14P265.002019-06-06</td>\n      <td>SPY</td>\n      <td>2019-06-14</td>\n      <td>0.05</td>\n      <td>6185</td>\n      <td>0.04</td>\n      <td>2764</td>\n      <td>0.05</td>\n      <td>put</td>\n      <td>265.0</td>\n      <td>4442</td>\n      <td>18731</td>\n      <td>284.8</td>\n      <td>2019-06-06</td>\n      <td>8 days</td>\n      <td>SPY2019-06-14P265</td>\n      <td>002019-06-06</td>\n    </tr>\n  </tbody>\n</table>\n<p>7300 rows × 18 columns</p>\n</div>"
     },
     "metadata": {},
     "execution_count": 22
    }
   ],
   "source": [
    "sample_day"
   ]
  },
  {
   "cell_type": "code",
   "execution_count": null,
   "metadata": {},
   "outputs": [],
   "source": []
  }
 ]
}